{
 "cells": [
  {
   "cell_type": "markdown",
   "metadata": {},
   "source": [
    "# Home assignment #1. Kalman Filter"
   ]
  },
  {
   "cell_type": "markdown",
   "metadata": {},
   "source": [
    "Imagine a robot. Robot state is described with the following parameters\n",
    "\n",
    "1. $x$, $y$ - robot coordinates,\n",
    "2. $V_x$, $V_y$ - velocities.\n",
    "\n",
    "We can only measure the coordinates of the robot, which should be reflected in the $ H $ matrix.\n",
    "\n",
    "In this homework assignment:\n",
    "- Fill in the matrices for the Kalman filter correctly.\n",
    "- For all three experiments, visualize the dependence of $ x $, $ y $, $ V_x $, $ V_y $ over time.\n",
    "- For all three experiments, visualize the dependence of each component of the gain matrix ($ K $) over time.\n",
    "     - What does the dynamics of changes in its components say?\n",
    "- How much does the velocity uncertainty decrease as a result of each experiment?"
   ]
  },
  {
   "cell_type": "code",
   "execution_count": null,
   "metadata": {},
   "outputs": [],
   "source": [
    "import numpy as np\n",
    "\n",
    "\n",
    "k = list()\n",
    "\n",
    "########################################\n",
    "\n",
    "\n",
    "def filter(x, E):\n",
    "    for n in range(len(measurements)):\n",
    "\n",
    "        # prediction\n",
    "        x = (F * x) + u\n",
    "        E = F * E * F.transpose()\n",
    "\n",
    "        # measurement update\n",
    "        Z = np.matrix([measurements[n]])\n",
    "        S = H * E * H.transpose() + R\n",
    "        K = E * H.transpose() * np.linalg.inv(S)\n",
    "        k.append(K)\n",
    "        x = x + (K * (Z.transpose() - (H * x)))\n",
    "        E = (I - (K * H)) * E\n",
    "\n",
    "        print(\"x= \")\n",
    "        print(x)\n",
    "        print(\"E= \")\n",
    "        print(E)\n",
    "\n",
    "\n",
    "########################################"
   ]
  },
  {
   "cell_type": "code",
   "execution_count": null,
   "metadata": {},
   "outputs": [],
   "source": [
    "dt = 0.1\n",
    "\n",
    "E = # initial covariance matrix: 0. for positions x and y, 1000 for the two velocities\n",
    "F = # next state function: 4D\n",
    "H = # measurement function: reflect the fact that we observe x and y but not the two velocities\n",
    "R = # measurement uncertainty: use 2x2 matrix with 0.1 as main diagonal\n",
    "I = # 4D identity matrix"
   ]
  },
  {
   "cell_type": "code",
   "execution_count": null,
   "metadata": {},
   "outputs": [],
   "source": [
    "print(\"### First Experiment ###\")\n",
    "measurements = [[5.0, 10.0], [6.0, 8.0], [7.0, 6.0], [8.0, 4.0], [9.0, 2.0], [10.0, 0.0]]\n",
    "initial_xy = [4.0, 12.0]\n",
    "\n",
    "\n",
    "# initial robot state (location and velocity)\n",
    "x = np.matrix([[initial_xy[0]], [initial_xy[1]], [0.0], [0.0]])\n",
    "# external motion applied to the robot\n",
    "u = np.matrix([[0.0], [0.1], [0.0], [0.0]])"
   ]
  },
  {
   "cell_type": "code",
   "execution_count": null,
   "metadata": {},
   "outputs": [],
   "source": [
    "filter(x, E)"
   ]
  },
  {
   "cell_type": "markdown",
   "metadata": {},
   "source": [
    "Visualize the dependence of $ x $, $ y $, $ V_x $, $ V_y $ over time"
   ]
  },
  {
   "cell_type": "code",
   "execution_count": null,
   "metadata": {},
   "outputs": [],
   "source": [
    "# YOUR CODE HERE"
   ]
  },
  {
   "cell_type": "markdown",
   "metadata": {},
   "source": [
    "Visualize the components of the $ K $ matrix below"
   ]
  },
  {
   "cell_type": "code",
   "execution_count": null,
   "metadata": {},
   "outputs": [],
   "source": [
    "# YOUR CODE HERE"
   ]
  },
  {
   "cell_type": "code",
   "execution_count": null,
   "metadata": {},
   "outputs": [],
   "source": [
    "print(\"### Second Experiment ###\")\n",
    "measurements = [[1.0, 4.0], [6.0, 0.0], [11.0, -4.0], [16.0, -8.0]]\n",
    "initial_xy = [-4.0, 8.0]\n",
    "\n",
    "dt = 0.1\n",
    "\n",
    "# initial robot state (location and velocity)\n",
    "x = np.matrix([[initial_xy[0]], [initial_xy[1]], [0.0], [0.0]])\n",
    "# external motion applied to the robot\n",
    "u = np.matrix([[0.0], [0.1], [0.0], [0.0]])"
   ]
  },
  {
   "cell_type": "code",
   "execution_count": null,
   "metadata": {},
   "outputs": [],
   "source": [
    "filter(x, E)"
   ]
  },
  {
   "cell_type": "markdown",
   "metadata": {},
   "source": [
    "Visualize the dependence of $ x $, $ y $, $ V_x $, $ V_y $ over time"
   ]
  },
  {
   "cell_type": "code",
   "execution_count": null,
   "metadata": {},
   "outputs": [],
   "source": [
    "# YOUR CODE HERE"
   ]
  },
  {
   "cell_type": "markdown",
   "metadata": {},
   "source": [
    "Visualize the components of the $ K $ matrix below"
   ]
  },
  {
   "cell_type": "code",
   "execution_count": null,
   "metadata": {},
   "outputs": [],
   "source": [
    "# YOUR CODE HERE"
   ]
  },
  {
   "cell_type": "code",
   "execution_count": null,
   "metadata": {},
   "outputs": [],
   "source": [
    "print(\"### Third Experiment ###\")\n",
    "measurements = [[1.0, 17.0], [1.0, 15.0], [1.0, 13.0], [1.0, 11.0]]\n",
    "initial_xy = [1.0, 19.0]\n",
    "\n",
    "dt = 0.1\n",
    "\n",
    "x = np.matrix(\n",
    "    [[initial_xy[0]], [initial_xy[1]], [0.0], [0.0]]\n",
    ")  # initial robot state (location and velocity)\n",
    "u = np.matrix([[0.0], [0.1], [0.0], [0.0]])  # external motion applied to the robot"
   ]
  },
  {
   "cell_type": "code",
   "execution_count": null,
   "metadata": {},
   "outputs": [],
   "source": [
    "filter(x, E)"
   ]
  },
  {
   "cell_type": "markdown",
   "metadata": {},
   "source": [
    "Visualize the dependence of $ x $, $ y $, $ V_x $, $ V_y $ over time"
   ]
  },
  {
   "cell_type": "code",
   "execution_count": null,
   "metadata": {},
   "outputs": [],
   "source": [
    "# YOUR CODE HERE"
   ]
  },
  {
   "cell_type": "markdown",
   "metadata": {},
   "source": [
    "Visualize the components of the $ K $ matrix below"
   ]
  },
  {
   "cell_type": "code",
   "execution_count": null,
   "metadata": {},
   "outputs": [],
   "source": [
    "# YOUR CODE HERE"
   ]
  }
 ],
 "metadata": {
  "kernelspec": {
   "display_name": "Python 3",
   "language": "python",
   "name": "python3"
  },
  "language_info": {
   "codemirror_mode": {
    "name": "ipython",
    "version": 3
   },
   "file_extension": ".py",
   "mimetype": "text/x-python",
   "name": "python",
   "nbconvert_exporter": "python",
   "pygments_lexer": "ipython3",
   "version": "3.8.3"
  },
  "toc": {
   "base_numbering": 1,
   "nav_menu": {},
   "number_sections": true,
   "sideBar": true,
   "skip_h1_title": false,
   "title_cell": "Table of Contents",
   "title_sidebar": "Contents",
   "toc_cell": false,
   "toc_position": {},
   "toc_section_display": true,
   "toc_window_display": true
  }
 },
 "nbformat": 4,
 "nbformat_minor": 2
}
